{
 "cells": [
  {
   "cell_type": "markdown",
   "id": "still-stage",
   "metadata": {},
   "source": [
    "![image](./images/nathana-reboucas-xE5SAT0WeTQ-unsplash.jpg)"
   ]
  },
  {
   "cell_type": "markdown",
   "id": "recorded-harbor",
   "metadata": {},
   "source": [
    "# Preliminary Models"
   ]
  },
  {
   "cell_type": "code",
   "execution_count": 15,
   "id": "opposed-device",
   "metadata": {},
   "outputs": [],
   "source": [
    "#import the packages and functions, this notebook uses predefined functions from the py file in the repo\n",
    "from functions import *\n",
    "import plotly.express as px"
   ]
  },
  {
   "cell_type": "code",
   "execution_count": 16,
   "id": "perceived-interim",
   "metadata": {},
   "outputs": [],
   "source": [
    "#import the data\n",
    "df = pd.read_csv('./data/customer_churn.csv')\n",
    "\n",
    "#drop phone number bc it's not useful\n",
    "df = df.drop('phone number',axis=1)\n",
    "categoricals = ['state','voice mail plan','international plan','churn']\n",
    "cat = pd.get_dummies(df[categoricals],drop_first=True)\n",
    "df = df.drop(categoricals,axis=1)\n",
    "df = pd.concat([df,cat],axis=1)\n",
    "y = df['churn']\n",
    "X = df.drop('churn',axis=1)"
   ]
  },
  {
   "cell_type": "code",
   "execution_count": 17,
   "id": "still-draft",
   "metadata": {},
   "outputs": [
    {
     "name": "stdout",
     "output_type": "stream",
     "text": [
      "[16:33:43] WARNING: /Users/travis/build/dmlc/xgboost/src/learner.cc:1095: Starting in XGBoost 1.3.0, the default evaluation metric used with the objective 'binary:logistic' was changed from 'error' to 'logloss'. Explicitly set eval_metric if you'd like to restore the old behavior.\n"
     ]
    },
    {
     "data": {
      "text/html": [
       "<div>\n",
       "<style scoped>\n",
       "    .dataframe tbody tr th:only-of-type {\n",
       "        vertical-align: middle;\n",
       "    }\n",
       "\n",
       "    .dataframe tbody tr th {\n",
       "        vertical-align: top;\n",
       "    }\n",
       "\n",
       "    .dataframe thead th {\n",
       "        text-align: right;\n",
       "    }\n",
       "</style>\n",
       "<table border=\"1\" class=\"dataframe\">\n",
       "  <thead>\n",
       "    <tr style=\"text-align: right;\">\n",
       "      <th></th>\n",
       "      <th>classifier</th>\n",
       "      <th>train accuracy</th>\n",
       "      <th>train precision</th>\n",
       "      <th>train recall</th>\n",
       "      <th>train f1 score</th>\n",
       "      <th>test accuracy</th>\n",
       "      <th>test precision</th>\n",
       "      <th>test recall</th>\n",
       "      <th>test f1 score</th>\n",
       "      <th>test time</th>\n",
       "    </tr>\n",
       "  </thead>\n",
       "  <tbody>\n",
       "    <tr>\n",
       "      <th>0</th>\n",
       "      <td>Logistic Regression</td>\n",
       "      <td>0.854</td>\n",
       "      <td>0.807</td>\n",
       "      <td>0.854</td>\n",
       "      <td>0.803</td>\n",
       "      <td>0.859</td>\n",
       "      <td>0.821</td>\n",
       "      <td>0.859</td>\n",
       "      <td>0.808</td>\n",
       "      <td>0.07</td>\n",
       "    </tr>\n",
       "    <tr>\n",
       "      <th>1</th>\n",
       "      <td>Nearest Neighbors</td>\n",
       "      <td>0.904</td>\n",
       "      <td>0.904</td>\n",
       "      <td>0.904</td>\n",
       "      <td>0.887</td>\n",
       "      <td>0.855</td>\n",
       "      <td>0.810</td>\n",
       "      <td>0.855</td>\n",
       "      <td>0.812</td>\n",
       "      <td>0.24</td>\n",
       "    </tr>\n",
       "    <tr>\n",
       "      <th>2</th>\n",
       "      <td>Naive Bayes</td>\n",
       "      <td>0.607</td>\n",
       "      <td>0.817</td>\n",
       "      <td>0.607</td>\n",
       "      <td>0.665</td>\n",
       "      <td>0.570</td>\n",
       "      <td>0.791</td>\n",
       "      <td>0.570</td>\n",
       "      <td>0.634</td>\n",
       "      <td>0.03</td>\n",
       "    </tr>\n",
       "    <tr>\n",
       "      <th>3</th>\n",
       "      <td>Linear SVM</td>\n",
       "      <td>0.855</td>\n",
       "      <td>0.876</td>\n",
       "      <td>0.855</td>\n",
       "      <td>0.789</td>\n",
       "      <td>0.857</td>\n",
       "      <td>0.734</td>\n",
       "      <td>0.857</td>\n",
       "      <td>0.791</td>\n",
       "      <td>30.88</td>\n",
       "    </tr>\n",
       "    <tr>\n",
       "      <th>4</th>\n",
       "      <td>RBF SVM</td>\n",
       "      <td>1.000</td>\n",
       "      <td>1.000</td>\n",
       "      <td>1.000</td>\n",
       "      <td>1.000</td>\n",
       "      <td>0.857</td>\n",
       "      <td>0.734</td>\n",
       "      <td>0.857</td>\n",
       "      <td>0.791</td>\n",
       "      <td>1.87</td>\n",
       "    </tr>\n",
       "    <tr>\n",
       "      <th>5</th>\n",
       "      <td>Decision Tree</td>\n",
       "      <td>0.952</td>\n",
       "      <td>0.951</td>\n",
       "      <td>0.952</td>\n",
       "      <td>0.949</td>\n",
       "      <td>0.937</td>\n",
       "      <td>0.935</td>\n",
       "      <td>0.937</td>\n",
       "      <td>0.933</td>\n",
       "      <td>0.03</td>\n",
       "    </tr>\n",
       "    <tr>\n",
       "      <th>6</th>\n",
       "      <td>Random Forest</td>\n",
       "      <td>0.854</td>\n",
       "      <td>0.730</td>\n",
       "      <td>0.854</td>\n",
       "      <td>0.787</td>\n",
       "      <td>0.857</td>\n",
       "      <td>0.734</td>\n",
       "      <td>0.857</td>\n",
       "      <td>0.791</td>\n",
       "      <td>0.04</td>\n",
       "    </tr>\n",
       "    <tr>\n",
       "      <th>7</th>\n",
       "      <td>Gradient Boost</td>\n",
       "      <td>0.972</td>\n",
       "      <td>0.972</td>\n",
       "      <td>0.972</td>\n",
       "      <td>0.971</td>\n",
       "      <td>0.949</td>\n",
       "      <td>0.949</td>\n",
       "      <td>0.949</td>\n",
       "      <td>0.945</td>\n",
       "      <td>0.72</td>\n",
       "    </tr>\n",
       "    <tr>\n",
       "      <th>8</th>\n",
       "      <td>AdaBoost</td>\n",
       "      <td>0.895</td>\n",
       "      <td>0.885</td>\n",
       "      <td>0.895</td>\n",
       "      <td>0.886</td>\n",
       "      <td>0.885</td>\n",
       "      <td>0.871</td>\n",
       "      <td>0.885</td>\n",
       "      <td>0.871</td>\n",
       "      <td>0.27</td>\n",
       "    </tr>\n",
       "    <tr>\n",
       "      <th>9</th>\n",
       "      <td>XGBoost</td>\n",
       "      <td>1.000</td>\n",
       "      <td>1.000</td>\n",
       "      <td>1.000</td>\n",
       "      <td>1.000</td>\n",
       "      <td>0.956</td>\n",
       "      <td>0.955</td>\n",
       "      <td>0.956</td>\n",
       "      <td>0.954</td>\n",
       "      <td>0.38</td>\n",
       "    </tr>\n",
       "  </tbody>\n",
       "</table>\n",
       "</div>"
      ],
      "text/plain": [
       "            classifier  train accuracy  train precision  train recall  \\\n",
       "0  Logistic Regression           0.854            0.807         0.854   \n",
       "1    Nearest Neighbors           0.904            0.904         0.904   \n",
       "2          Naive Bayes           0.607            0.817         0.607   \n",
       "3           Linear SVM           0.855            0.876         0.855   \n",
       "4              RBF SVM           1.000            1.000         1.000   \n",
       "5        Decision Tree           0.952            0.951         0.952   \n",
       "6        Random Forest           0.854            0.730         0.854   \n",
       "7       Gradient Boost           0.972            0.972         0.972   \n",
       "8             AdaBoost           0.895            0.885         0.895   \n",
       "9              XGBoost           1.000            1.000         1.000   \n",
       "\n",
       "   train f1 score  test accuracy  test precision  test recall  test f1 score  \\\n",
       "0           0.803          0.859           0.821        0.859          0.808   \n",
       "1           0.887          0.855           0.810        0.855          0.812   \n",
       "2           0.665          0.570           0.791        0.570          0.634   \n",
       "3           0.789          0.857           0.734        0.857          0.791   \n",
       "4           1.000          0.857           0.734        0.857          0.791   \n",
       "5           0.949          0.937           0.935        0.937          0.933   \n",
       "6           0.787          0.857           0.734        0.857          0.791   \n",
       "7           0.971          0.949           0.949        0.949          0.945   \n",
       "8           0.886          0.885           0.871        0.885          0.871   \n",
       "9           1.000          0.956           0.955        0.956          0.954   \n",
       "\n",
       "   test time  \n",
       "0       0.07  \n",
       "1       0.24  \n",
       "2       0.03  \n",
       "3      30.88  \n",
       "4       1.87  \n",
       "5       0.03  \n",
       "6       0.04  \n",
       "7       0.72  \n",
       "8       0.27  \n",
       "9       0.38  "
      ]
     },
     "execution_count": 17,
     "metadata": {},
     "output_type": "execute_result"
    }
   ],
   "source": [
    "#create a dataframe for model stats\n",
    "models = vanilla_models(X,y)\n",
    "models"
   ]
  },
  {
   "cell_type": "code",
   "execution_count": 24,
   "id": "southwest-thought",
   "metadata": {},
   "outputs": [
    {
     "data": {
      "application/vnd.plotly.v1+json": {
       "config": {
        "plotlyServerURL": "https://plot.ly"
       },
       "data": [
        {
         "hovertemplate": "classifier=Logistic Regression<br>test time=%{x}<br>test accuracy=%{y}<br>test f1 score=%{marker.size}<extra></extra>",
         "legendgroup": "Logistic Regression",
         "marker": {
          "color": "#636efa",
          "size": [
           0.808
          ],
          "sizemode": "area",
          "sizeref": 0.002385,
          "symbol": "circle"
         },
         "mode": "markers",
         "name": "Logistic Regression",
         "orientation": "v",
         "showlegend": true,
         "type": "scatter",
         "x": [
          0.07
         ],
         "xaxis": "x",
         "y": [
          0.859
         ],
         "yaxis": "y"
        },
        {
         "hovertemplate": "classifier=Nearest Neighbors<br>test time=%{x}<br>test accuracy=%{y}<br>test f1 score=%{marker.size}<extra></extra>",
         "legendgroup": "Nearest Neighbors",
         "marker": {
          "color": "#EF553B",
          "size": [
           0.812
          ],
          "sizemode": "area",
          "sizeref": 0.002385,
          "symbol": "circle"
         },
         "mode": "markers",
         "name": "Nearest Neighbors",
         "orientation": "v",
         "showlegend": true,
         "type": "scatter",
         "x": [
          0.24
         ],
         "xaxis": "x",
         "y": [
          0.855
         ],
         "yaxis": "y"
        },
        {
         "hovertemplate": "classifier=Naive Bayes<br>test time=%{x}<br>test accuracy=%{y}<br>test f1 score=%{marker.size}<extra></extra>",
         "legendgroup": "Naive Bayes",
         "marker": {
          "color": "#00cc96",
          "size": [
           0.634
          ],
          "sizemode": "area",
          "sizeref": 0.002385,
          "symbol": "circle"
         },
         "mode": "markers",
         "name": "Naive Bayes",
         "orientation": "v",
         "showlegend": true,
         "type": "scatter",
         "x": [
          0.03
         ],
         "xaxis": "x",
         "y": [
          0.57
         ],
         "yaxis": "y"
        },
        {
         "hovertemplate": "classifier=Linear SVM<br>test time=%{x}<br>test accuracy=%{y}<br>test f1 score=%{marker.size}<extra></extra>",
         "legendgroup": "Linear SVM",
         "marker": {
          "color": "#ab63fa",
          "size": [
           0.791
          ],
          "sizemode": "area",
          "sizeref": 0.002385,
          "symbol": "circle"
         },
         "mode": "markers",
         "name": "Linear SVM",
         "orientation": "v",
         "showlegend": true,
         "type": "scatter",
         "x": [
          30.88
         ],
         "xaxis": "x",
         "y": [
          0.857
         ],
         "yaxis": "y"
        },
        {
         "hovertemplate": "classifier=RBF SVM<br>test time=%{x}<br>test accuracy=%{y}<br>test f1 score=%{marker.size}<extra></extra>",
         "legendgroup": "RBF SVM",
         "marker": {
          "color": "#FFA15A",
          "size": [
           0.791
          ],
          "sizemode": "area",
          "sizeref": 0.002385,
          "symbol": "circle"
         },
         "mode": "markers",
         "name": "RBF SVM",
         "orientation": "v",
         "showlegend": true,
         "type": "scatter",
         "x": [
          1.87
         ],
         "xaxis": "x",
         "y": [
          0.857
         ],
         "yaxis": "y"
        },
        {
         "hovertemplate": "classifier=Decision Tree<br>test time=%{x}<br>test accuracy=%{y}<br>test f1 score=%{marker.size}<extra></extra>",
         "legendgroup": "Decision Tree",
         "marker": {
          "color": "#19d3f3",
          "size": [
           0.933
          ],
          "sizemode": "area",
          "sizeref": 0.002385,
          "symbol": "circle"
         },
         "mode": "markers",
         "name": "Decision Tree",
         "orientation": "v",
         "showlegend": true,
         "type": "scatter",
         "x": [
          0.03
         ],
         "xaxis": "x",
         "y": [
          0.937
         ],
         "yaxis": "y"
        },
        {
         "hovertemplate": "classifier=Random Forest<br>test time=%{x}<br>test accuracy=%{y}<br>test f1 score=%{marker.size}<extra></extra>",
         "legendgroup": "Random Forest",
         "marker": {
          "color": "#FF6692",
          "size": [
           0.791
          ],
          "sizemode": "area",
          "sizeref": 0.002385,
          "symbol": "circle"
         },
         "mode": "markers",
         "name": "Random Forest",
         "orientation": "v",
         "showlegend": true,
         "type": "scatter",
         "x": [
          0.04
         ],
         "xaxis": "x",
         "y": [
          0.857
         ],
         "yaxis": "y"
        },
        {
         "hovertemplate": "classifier=Gradient Boost<br>test time=%{x}<br>test accuracy=%{y}<br>test f1 score=%{marker.size}<extra></extra>",
         "legendgroup": "Gradient Boost",
         "marker": {
          "color": "#B6E880",
          "size": [
           0.945
          ],
          "sizemode": "area",
          "sizeref": 0.002385,
          "symbol": "circle"
         },
         "mode": "markers",
         "name": "Gradient Boost",
         "orientation": "v",
         "showlegend": true,
         "type": "scatter",
         "x": [
          0.72
         ],
         "xaxis": "x",
         "y": [
          0.949
         ],
         "yaxis": "y"
        },
        {
         "hovertemplate": "classifier=AdaBoost<br>test time=%{x}<br>test accuracy=%{y}<br>test f1 score=%{marker.size}<extra></extra>",
         "legendgroup": "AdaBoost",
         "marker": {
          "color": "#FF97FF",
          "size": [
           0.871
          ],
          "sizemode": "area",
          "sizeref": 0.002385,
          "symbol": "circle"
         },
         "mode": "markers",
         "name": "AdaBoost",
         "orientation": "v",
         "showlegend": true,
         "type": "scatter",
         "x": [
          0.27
         ],
         "xaxis": "x",
         "y": [
          0.885
         ],
         "yaxis": "y"
        },
        {
         "hovertemplate": "classifier=XGBoost<br>test time=%{x}<br>test accuracy=%{y}<br>test f1 score=%{marker.size}<extra></extra>",
         "legendgroup": "XGBoost",
         "marker": {
          "color": "#FECB52",
          "size": [
           0.954
          ],
          "sizemode": "area",
          "sizeref": 0.002385,
          "symbol": "circle"
         },
         "mode": "markers",
         "name": "XGBoost",
         "orientation": "v",
         "showlegend": true,
         "type": "scatter",
         "x": [
          0.38
         ],
         "xaxis": "x",
         "y": [
          0.956
         ],
         "yaxis": "y"
        }
       ],
       "layout": {
        "legend": {
         "itemsizing": "constant",
         "title": {
          "text": "classifier"
         },
         "tracegroupgap": 0
        },
        "template": {
         "data": {
          "bar": [
           {
            "error_x": {
             "color": "#2a3f5f"
            },
            "error_y": {
             "color": "#2a3f5f"
            },
            "marker": {
             "line": {
              "color": "#E5ECF6",
              "width": 0.5
             }
            },
            "type": "bar"
           }
          ],
          "barpolar": [
           {
            "marker": {
             "line": {
              "color": "#E5ECF6",
              "width": 0.5
             }
            },
            "type": "barpolar"
           }
          ],
          "carpet": [
           {
            "aaxis": {
             "endlinecolor": "#2a3f5f",
             "gridcolor": "white",
             "linecolor": "white",
             "minorgridcolor": "white",
             "startlinecolor": "#2a3f5f"
            },
            "baxis": {
             "endlinecolor": "#2a3f5f",
             "gridcolor": "white",
             "linecolor": "white",
             "minorgridcolor": "white",
             "startlinecolor": "#2a3f5f"
            },
            "type": "carpet"
           }
          ],
          "choropleth": [
           {
            "colorbar": {
             "outlinewidth": 0,
             "ticks": ""
            },
            "type": "choropleth"
           }
          ],
          "contour": [
           {
            "colorbar": {
             "outlinewidth": 0,
             "ticks": ""
            },
            "colorscale": [
             [
              0,
              "#0d0887"
             ],
             [
              0.1111111111111111,
              "#46039f"
             ],
             [
              0.2222222222222222,
              "#7201a8"
             ],
             [
              0.3333333333333333,
              "#9c179e"
             ],
             [
              0.4444444444444444,
              "#bd3786"
             ],
             [
              0.5555555555555556,
              "#d8576b"
             ],
             [
              0.6666666666666666,
              "#ed7953"
             ],
             [
              0.7777777777777778,
              "#fb9f3a"
             ],
             [
              0.8888888888888888,
              "#fdca26"
             ],
             [
              1,
              "#f0f921"
             ]
            ],
            "type": "contour"
           }
          ],
          "contourcarpet": [
           {
            "colorbar": {
             "outlinewidth": 0,
             "ticks": ""
            },
            "type": "contourcarpet"
           }
          ],
          "heatmap": [
           {
            "colorbar": {
             "outlinewidth": 0,
             "ticks": ""
            },
            "colorscale": [
             [
              0,
              "#0d0887"
             ],
             [
              0.1111111111111111,
              "#46039f"
             ],
             [
              0.2222222222222222,
              "#7201a8"
             ],
             [
              0.3333333333333333,
              "#9c179e"
             ],
             [
              0.4444444444444444,
              "#bd3786"
             ],
             [
              0.5555555555555556,
              "#d8576b"
             ],
             [
              0.6666666666666666,
              "#ed7953"
             ],
             [
              0.7777777777777778,
              "#fb9f3a"
             ],
             [
              0.8888888888888888,
              "#fdca26"
             ],
             [
              1,
              "#f0f921"
             ]
            ],
            "type": "heatmap"
           }
          ],
          "heatmapgl": [
           {
            "colorbar": {
             "outlinewidth": 0,
             "ticks": ""
            },
            "colorscale": [
             [
              0,
              "#0d0887"
             ],
             [
              0.1111111111111111,
              "#46039f"
             ],
             [
              0.2222222222222222,
              "#7201a8"
             ],
             [
              0.3333333333333333,
              "#9c179e"
             ],
             [
              0.4444444444444444,
              "#bd3786"
             ],
             [
              0.5555555555555556,
              "#d8576b"
             ],
             [
              0.6666666666666666,
              "#ed7953"
             ],
             [
              0.7777777777777778,
              "#fb9f3a"
             ],
             [
              0.8888888888888888,
              "#fdca26"
             ],
             [
              1,
              "#f0f921"
             ]
            ],
            "type": "heatmapgl"
           }
          ],
          "histogram": [
           {
            "marker": {
             "colorbar": {
              "outlinewidth": 0,
              "ticks": ""
             }
            },
            "type": "histogram"
           }
          ],
          "histogram2d": [
           {
            "colorbar": {
             "outlinewidth": 0,
             "ticks": ""
            },
            "colorscale": [
             [
              0,
              "#0d0887"
             ],
             [
              0.1111111111111111,
              "#46039f"
             ],
             [
              0.2222222222222222,
              "#7201a8"
             ],
             [
              0.3333333333333333,
              "#9c179e"
             ],
             [
              0.4444444444444444,
              "#bd3786"
             ],
             [
              0.5555555555555556,
              "#d8576b"
             ],
             [
              0.6666666666666666,
              "#ed7953"
             ],
             [
              0.7777777777777778,
              "#fb9f3a"
             ],
             [
              0.8888888888888888,
              "#fdca26"
             ],
             [
              1,
              "#f0f921"
             ]
            ],
            "type": "histogram2d"
           }
          ],
          "histogram2dcontour": [
           {
            "colorbar": {
             "outlinewidth": 0,
             "ticks": ""
            },
            "colorscale": [
             [
              0,
              "#0d0887"
             ],
             [
              0.1111111111111111,
              "#46039f"
             ],
             [
              0.2222222222222222,
              "#7201a8"
             ],
             [
              0.3333333333333333,
              "#9c179e"
             ],
             [
              0.4444444444444444,
              "#bd3786"
             ],
             [
              0.5555555555555556,
              "#d8576b"
             ],
             [
              0.6666666666666666,
              "#ed7953"
             ],
             [
              0.7777777777777778,
              "#fb9f3a"
             ],
             [
              0.8888888888888888,
              "#fdca26"
             ],
             [
              1,
              "#f0f921"
             ]
            ],
            "type": "histogram2dcontour"
           }
          ],
          "mesh3d": [
           {
            "colorbar": {
             "outlinewidth": 0,
             "ticks": ""
            },
            "type": "mesh3d"
           }
          ],
          "parcoords": [
           {
            "line": {
             "colorbar": {
              "outlinewidth": 0,
              "ticks": ""
             }
            },
            "type": "parcoords"
           }
          ],
          "pie": [
           {
            "automargin": true,
            "type": "pie"
           }
          ],
          "scatter": [
           {
            "marker": {
             "colorbar": {
              "outlinewidth": 0,
              "ticks": ""
             }
            },
            "type": "scatter"
           }
          ],
          "scatter3d": [
           {
            "line": {
             "colorbar": {
              "outlinewidth": 0,
              "ticks": ""
             }
            },
            "marker": {
             "colorbar": {
              "outlinewidth": 0,
              "ticks": ""
             }
            },
            "type": "scatter3d"
           }
          ],
          "scattercarpet": [
           {
            "marker": {
             "colorbar": {
              "outlinewidth": 0,
              "ticks": ""
             }
            },
            "type": "scattercarpet"
           }
          ],
          "scattergeo": [
           {
            "marker": {
             "colorbar": {
              "outlinewidth": 0,
              "ticks": ""
             }
            },
            "type": "scattergeo"
           }
          ],
          "scattergl": [
           {
            "marker": {
             "colorbar": {
              "outlinewidth": 0,
              "ticks": ""
             }
            },
            "type": "scattergl"
           }
          ],
          "scattermapbox": [
           {
            "marker": {
             "colorbar": {
              "outlinewidth": 0,
              "ticks": ""
             }
            },
            "type": "scattermapbox"
           }
          ],
          "scatterpolar": [
           {
            "marker": {
             "colorbar": {
              "outlinewidth": 0,
              "ticks": ""
             }
            },
            "type": "scatterpolar"
           }
          ],
          "scatterpolargl": [
           {
            "marker": {
             "colorbar": {
              "outlinewidth": 0,
              "ticks": ""
             }
            },
            "type": "scatterpolargl"
           }
          ],
          "scatterternary": [
           {
            "marker": {
             "colorbar": {
              "outlinewidth": 0,
              "ticks": ""
             }
            },
            "type": "scatterternary"
           }
          ],
          "surface": [
           {
            "colorbar": {
             "outlinewidth": 0,
             "ticks": ""
            },
            "colorscale": [
             [
              0,
              "#0d0887"
             ],
             [
              0.1111111111111111,
              "#46039f"
             ],
             [
              0.2222222222222222,
              "#7201a8"
             ],
             [
              0.3333333333333333,
              "#9c179e"
             ],
             [
              0.4444444444444444,
              "#bd3786"
             ],
             [
              0.5555555555555556,
              "#d8576b"
             ],
             [
              0.6666666666666666,
              "#ed7953"
             ],
             [
              0.7777777777777778,
              "#fb9f3a"
             ],
             [
              0.8888888888888888,
              "#fdca26"
             ],
             [
              1,
              "#f0f921"
             ]
            ],
            "type": "surface"
           }
          ],
          "table": [
           {
            "cells": {
             "fill": {
              "color": "#EBF0F8"
             },
             "line": {
              "color": "white"
             }
            },
            "header": {
             "fill": {
              "color": "#C8D4E3"
             },
             "line": {
              "color": "white"
             }
            },
            "type": "table"
           }
          ]
         },
         "layout": {
          "annotationdefaults": {
           "arrowcolor": "#2a3f5f",
           "arrowhead": 0,
           "arrowwidth": 1
          },
          "autotypenumbers": "strict",
          "coloraxis": {
           "colorbar": {
            "outlinewidth": 0,
            "ticks": ""
           }
          },
          "colorscale": {
           "diverging": [
            [
             0,
             "#8e0152"
            ],
            [
             0.1,
             "#c51b7d"
            ],
            [
             0.2,
             "#de77ae"
            ],
            [
             0.3,
             "#f1b6da"
            ],
            [
             0.4,
             "#fde0ef"
            ],
            [
             0.5,
             "#f7f7f7"
            ],
            [
             0.6,
             "#e6f5d0"
            ],
            [
             0.7,
             "#b8e186"
            ],
            [
             0.8,
             "#7fbc41"
            ],
            [
             0.9,
             "#4d9221"
            ],
            [
             1,
             "#276419"
            ]
           ],
           "sequential": [
            [
             0,
             "#0d0887"
            ],
            [
             0.1111111111111111,
             "#46039f"
            ],
            [
             0.2222222222222222,
             "#7201a8"
            ],
            [
             0.3333333333333333,
             "#9c179e"
            ],
            [
             0.4444444444444444,
             "#bd3786"
            ],
            [
             0.5555555555555556,
             "#d8576b"
            ],
            [
             0.6666666666666666,
             "#ed7953"
            ],
            [
             0.7777777777777778,
             "#fb9f3a"
            ],
            [
             0.8888888888888888,
             "#fdca26"
            ],
            [
             1,
             "#f0f921"
            ]
           ],
           "sequentialminus": [
            [
             0,
             "#0d0887"
            ],
            [
             0.1111111111111111,
             "#46039f"
            ],
            [
             0.2222222222222222,
             "#7201a8"
            ],
            [
             0.3333333333333333,
             "#9c179e"
            ],
            [
             0.4444444444444444,
             "#bd3786"
            ],
            [
             0.5555555555555556,
             "#d8576b"
            ],
            [
             0.6666666666666666,
             "#ed7953"
            ],
            [
             0.7777777777777778,
             "#fb9f3a"
            ],
            [
             0.8888888888888888,
             "#fdca26"
            ],
            [
             1,
             "#f0f921"
            ]
           ]
          },
          "colorway": [
           "#636efa",
           "#EF553B",
           "#00cc96",
           "#ab63fa",
           "#FFA15A",
           "#19d3f3",
           "#FF6692",
           "#B6E880",
           "#FF97FF",
           "#FECB52"
          ],
          "font": {
           "color": "#2a3f5f"
          },
          "geo": {
           "bgcolor": "white",
           "lakecolor": "white",
           "landcolor": "#E5ECF6",
           "showlakes": true,
           "showland": true,
           "subunitcolor": "white"
          },
          "hoverlabel": {
           "align": "left"
          },
          "hovermode": "closest",
          "mapbox": {
           "style": "light"
          },
          "paper_bgcolor": "white",
          "plot_bgcolor": "#E5ECF6",
          "polar": {
           "angularaxis": {
            "gridcolor": "white",
            "linecolor": "white",
            "ticks": ""
           },
           "bgcolor": "#E5ECF6",
           "radialaxis": {
            "gridcolor": "white",
            "linecolor": "white",
            "ticks": ""
           }
          },
          "scene": {
           "xaxis": {
            "backgroundcolor": "#E5ECF6",
            "gridcolor": "white",
            "gridwidth": 2,
            "linecolor": "white",
            "showbackground": true,
            "ticks": "",
            "zerolinecolor": "white"
           },
           "yaxis": {
            "backgroundcolor": "#E5ECF6",
            "gridcolor": "white",
            "gridwidth": 2,
            "linecolor": "white",
            "showbackground": true,
            "ticks": "",
            "zerolinecolor": "white"
           },
           "zaxis": {
            "backgroundcolor": "#E5ECF6",
            "gridcolor": "white",
            "gridwidth": 2,
            "linecolor": "white",
            "showbackground": true,
            "ticks": "",
            "zerolinecolor": "white"
           }
          },
          "shapedefaults": {
           "line": {
            "color": "#2a3f5f"
           }
          },
          "ternary": {
           "aaxis": {
            "gridcolor": "white",
            "linecolor": "white",
            "ticks": ""
           },
           "baxis": {
            "gridcolor": "white",
            "linecolor": "white",
            "ticks": ""
           },
           "bgcolor": "#E5ECF6",
           "caxis": {
            "gridcolor": "white",
            "linecolor": "white",
            "ticks": ""
           }
          },
          "title": {
           "x": 0.05
          },
          "xaxis": {
           "automargin": true,
           "gridcolor": "white",
           "linecolor": "white",
           "ticks": "",
           "title": {
            "standoff": 15
           },
           "zerolinecolor": "white",
           "zerolinewidth": 2
          },
          "yaxis": {
           "automargin": true,
           "gridcolor": "white",
           "linecolor": "white",
           "ticks": "",
           "title": {
            "standoff": 15
           },
           "zerolinecolor": "white",
           "zerolinewidth": 2
          }
         }
        },
        "title": {
         "text": "First Round Models"
        },
        "xaxis": {
         "anchor": "y",
         "domain": [
          0,
          1
         ],
         "title": {
          "text": "test time"
         }
        },
        "yaxis": {
         "anchor": "x",
         "domain": [
          0,
          1
         ],
         "title": {
          "text": "test accuracy"
         }
        }
       }
      },
      "text/html": [
       "<div>                            <div id=\"9ae7774a-af23-42fd-9b7d-4edadb750599\" class=\"plotly-graph-div\" style=\"height:525px; width:100%;\"></div>            <script type=\"text/javascript\">                require([\"plotly\"], function(Plotly) {                    window.PLOTLYENV=window.PLOTLYENV || {};                                    if (document.getElementById(\"9ae7774a-af23-42fd-9b7d-4edadb750599\")) {                    Plotly.newPlot(                        \"9ae7774a-af23-42fd-9b7d-4edadb750599\",                        [{\"hovertemplate\": \"classifier=Logistic Regression<br>test time=%{x}<br>test accuracy=%{y}<br>test f1 score=%{marker.size}<extra></extra>\", \"legendgroup\": \"Logistic Regression\", \"marker\": {\"color\": \"#636efa\", \"size\": [0.808], \"sizemode\": \"area\", \"sizeref\": 0.002385, \"symbol\": \"circle\"}, \"mode\": \"markers\", \"name\": \"Logistic Regression\", \"orientation\": \"v\", \"showlegend\": true, \"type\": \"scatter\", \"x\": [0.07], \"xaxis\": \"x\", \"y\": [0.859], \"yaxis\": \"y\"}, {\"hovertemplate\": \"classifier=Nearest Neighbors<br>test time=%{x}<br>test accuracy=%{y}<br>test f1 score=%{marker.size}<extra></extra>\", \"legendgroup\": \"Nearest Neighbors\", \"marker\": {\"color\": \"#EF553B\", \"size\": [0.812], \"sizemode\": \"area\", \"sizeref\": 0.002385, \"symbol\": \"circle\"}, \"mode\": \"markers\", \"name\": \"Nearest Neighbors\", \"orientation\": \"v\", \"showlegend\": true, \"type\": \"scatter\", \"x\": [0.24], \"xaxis\": \"x\", \"y\": [0.855], \"yaxis\": \"y\"}, {\"hovertemplate\": \"classifier=Naive Bayes<br>test time=%{x}<br>test accuracy=%{y}<br>test f1 score=%{marker.size}<extra></extra>\", \"legendgroup\": \"Naive Bayes\", \"marker\": {\"color\": \"#00cc96\", \"size\": [0.634], \"sizemode\": \"area\", \"sizeref\": 0.002385, \"symbol\": \"circle\"}, \"mode\": \"markers\", \"name\": \"Naive Bayes\", \"orientation\": \"v\", \"showlegend\": true, \"type\": \"scatter\", \"x\": [0.03], \"xaxis\": \"x\", \"y\": [0.57], \"yaxis\": \"y\"}, {\"hovertemplate\": \"classifier=Linear SVM<br>test time=%{x}<br>test accuracy=%{y}<br>test f1 score=%{marker.size}<extra></extra>\", \"legendgroup\": \"Linear SVM\", \"marker\": {\"color\": \"#ab63fa\", \"size\": [0.791], \"sizemode\": \"area\", \"sizeref\": 0.002385, \"symbol\": \"circle\"}, \"mode\": \"markers\", \"name\": \"Linear SVM\", \"orientation\": \"v\", \"showlegend\": true, \"type\": \"scatter\", \"x\": [30.88], \"xaxis\": \"x\", \"y\": [0.857], \"yaxis\": \"y\"}, {\"hovertemplate\": \"classifier=RBF SVM<br>test time=%{x}<br>test accuracy=%{y}<br>test f1 score=%{marker.size}<extra></extra>\", \"legendgroup\": \"RBF SVM\", \"marker\": {\"color\": \"#FFA15A\", \"size\": [0.791], \"sizemode\": \"area\", \"sizeref\": 0.002385, \"symbol\": \"circle\"}, \"mode\": \"markers\", \"name\": \"RBF SVM\", \"orientation\": \"v\", \"showlegend\": true, \"type\": \"scatter\", \"x\": [1.87], \"xaxis\": \"x\", \"y\": [0.857], \"yaxis\": \"y\"}, {\"hovertemplate\": \"classifier=Decision Tree<br>test time=%{x}<br>test accuracy=%{y}<br>test f1 score=%{marker.size}<extra></extra>\", \"legendgroup\": \"Decision Tree\", \"marker\": {\"color\": \"#19d3f3\", \"size\": [0.933], \"sizemode\": \"area\", \"sizeref\": 0.002385, \"symbol\": \"circle\"}, \"mode\": \"markers\", \"name\": \"Decision Tree\", \"orientation\": \"v\", \"showlegend\": true, \"type\": \"scatter\", \"x\": [0.03], \"xaxis\": \"x\", \"y\": [0.937], \"yaxis\": \"y\"}, {\"hovertemplate\": \"classifier=Random Forest<br>test time=%{x}<br>test accuracy=%{y}<br>test f1 score=%{marker.size}<extra></extra>\", \"legendgroup\": \"Random Forest\", \"marker\": {\"color\": \"#FF6692\", \"size\": [0.791], \"sizemode\": \"area\", \"sizeref\": 0.002385, \"symbol\": \"circle\"}, \"mode\": \"markers\", \"name\": \"Random Forest\", \"orientation\": \"v\", \"showlegend\": true, \"type\": \"scatter\", \"x\": [0.04], \"xaxis\": \"x\", \"y\": [0.857], \"yaxis\": \"y\"}, {\"hovertemplate\": \"classifier=Gradient Boost<br>test time=%{x}<br>test accuracy=%{y}<br>test f1 score=%{marker.size}<extra></extra>\", \"legendgroup\": \"Gradient Boost\", \"marker\": {\"color\": \"#B6E880\", \"size\": [0.945], \"sizemode\": \"area\", \"sizeref\": 0.002385, \"symbol\": \"circle\"}, \"mode\": \"markers\", \"name\": \"Gradient Boost\", \"orientation\": \"v\", \"showlegend\": true, \"type\": \"scatter\", \"x\": [0.72], \"xaxis\": \"x\", \"y\": [0.949], \"yaxis\": \"y\"}, {\"hovertemplate\": \"classifier=AdaBoost<br>test time=%{x}<br>test accuracy=%{y}<br>test f1 score=%{marker.size}<extra></extra>\", \"legendgroup\": \"AdaBoost\", \"marker\": {\"color\": \"#FF97FF\", \"size\": [0.871], \"sizemode\": \"area\", \"sizeref\": 0.002385, \"symbol\": \"circle\"}, \"mode\": \"markers\", \"name\": \"AdaBoost\", \"orientation\": \"v\", \"showlegend\": true, \"type\": \"scatter\", \"x\": [0.27], \"xaxis\": \"x\", \"y\": [0.885], \"yaxis\": \"y\"}, {\"hovertemplate\": \"classifier=XGBoost<br>test time=%{x}<br>test accuracy=%{y}<br>test f1 score=%{marker.size}<extra></extra>\", \"legendgroup\": \"XGBoost\", \"marker\": {\"color\": \"#FECB52\", \"size\": [0.954], \"sizemode\": \"area\", \"sizeref\": 0.002385, \"symbol\": \"circle\"}, \"mode\": \"markers\", \"name\": \"XGBoost\", \"orientation\": \"v\", \"showlegend\": true, \"type\": \"scatter\", \"x\": [0.38], \"xaxis\": \"x\", \"y\": [0.956], \"yaxis\": \"y\"}],                        {\"legend\": {\"itemsizing\": \"constant\", \"title\": {\"text\": \"classifier\"}, \"tracegroupgap\": 0}, \"template\": {\"data\": {\"bar\": [{\"error_x\": {\"color\": \"#2a3f5f\"}, \"error_y\": {\"color\": \"#2a3f5f\"}, \"marker\": {\"line\": {\"color\": \"#E5ECF6\", \"width\": 0.5}}, \"type\": \"bar\"}], \"barpolar\": [{\"marker\": {\"line\": {\"color\": \"#E5ECF6\", \"width\": 0.5}}, \"type\": \"barpolar\"}], \"carpet\": [{\"aaxis\": {\"endlinecolor\": \"#2a3f5f\", \"gridcolor\": \"white\", \"linecolor\": \"white\", \"minorgridcolor\": \"white\", \"startlinecolor\": \"#2a3f5f\"}, \"baxis\": {\"endlinecolor\": \"#2a3f5f\", \"gridcolor\": \"white\", \"linecolor\": \"white\", \"minorgridcolor\": \"white\", \"startlinecolor\": \"#2a3f5f\"}, \"type\": \"carpet\"}], \"choropleth\": [{\"colorbar\": {\"outlinewidth\": 0, \"ticks\": \"\"}, \"type\": \"choropleth\"}], \"contour\": [{\"colorbar\": {\"outlinewidth\": 0, \"ticks\": \"\"}, \"colorscale\": [[0.0, \"#0d0887\"], [0.1111111111111111, \"#46039f\"], [0.2222222222222222, \"#7201a8\"], [0.3333333333333333, \"#9c179e\"], [0.4444444444444444, \"#bd3786\"], [0.5555555555555556, \"#d8576b\"], [0.6666666666666666, \"#ed7953\"], [0.7777777777777778, \"#fb9f3a\"], [0.8888888888888888, \"#fdca26\"], [1.0, \"#f0f921\"]], \"type\": \"contour\"}], \"contourcarpet\": [{\"colorbar\": {\"outlinewidth\": 0, \"ticks\": \"\"}, \"type\": \"contourcarpet\"}], \"heatmap\": [{\"colorbar\": {\"outlinewidth\": 0, \"ticks\": \"\"}, \"colorscale\": [[0.0, \"#0d0887\"], [0.1111111111111111, \"#46039f\"], [0.2222222222222222, \"#7201a8\"], [0.3333333333333333, \"#9c179e\"], [0.4444444444444444, \"#bd3786\"], [0.5555555555555556, \"#d8576b\"], [0.6666666666666666, \"#ed7953\"], [0.7777777777777778, \"#fb9f3a\"], [0.8888888888888888, \"#fdca26\"], [1.0, \"#f0f921\"]], \"type\": \"heatmap\"}], \"heatmapgl\": [{\"colorbar\": {\"outlinewidth\": 0, \"ticks\": \"\"}, \"colorscale\": [[0.0, \"#0d0887\"], [0.1111111111111111, \"#46039f\"], [0.2222222222222222, \"#7201a8\"], [0.3333333333333333, \"#9c179e\"], [0.4444444444444444, \"#bd3786\"], [0.5555555555555556, \"#d8576b\"], [0.6666666666666666, \"#ed7953\"], [0.7777777777777778, \"#fb9f3a\"], [0.8888888888888888, \"#fdca26\"], [1.0, \"#f0f921\"]], \"type\": \"heatmapgl\"}], \"histogram\": [{\"marker\": {\"colorbar\": {\"outlinewidth\": 0, \"ticks\": \"\"}}, \"type\": \"histogram\"}], \"histogram2d\": [{\"colorbar\": {\"outlinewidth\": 0, \"ticks\": \"\"}, \"colorscale\": [[0.0, \"#0d0887\"], [0.1111111111111111, \"#46039f\"], [0.2222222222222222, \"#7201a8\"], [0.3333333333333333, \"#9c179e\"], [0.4444444444444444, \"#bd3786\"], [0.5555555555555556, \"#d8576b\"], [0.6666666666666666, \"#ed7953\"], [0.7777777777777778, \"#fb9f3a\"], [0.8888888888888888, \"#fdca26\"], [1.0, \"#f0f921\"]], \"type\": \"histogram2d\"}], \"histogram2dcontour\": [{\"colorbar\": {\"outlinewidth\": 0, \"ticks\": \"\"}, \"colorscale\": [[0.0, \"#0d0887\"], [0.1111111111111111, \"#46039f\"], [0.2222222222222222, \"#7201a8\"], [0.3333333333333333, \"#9c179e\"], [0.4444444444444444, \"#bd3786\"], [0.5555555555555556, \"#d8576b\"], [0.6666666666666666, \"#ed7953\"], [0.7777777777777778, \"#fb9f3a\"], [0.8888888888888888, \"#fdca26\"], [1.0, \"#f0f921\"]], \"type\": \"histogram2dcontour\"}], \"mesh3d\": [{\"colorbar\": {\"outlinewidth\": 0, \"ticks\": \"\"}, \"type\": \"mesh3d\"}], \"parcoords\": [{\"line\": {\"colorbar\": {\"outlinewidth\": 0, \"ticks\": \"\"}}, \"type\": \"parcoords\"}], \"pie\": [{\"automargin\": true, \"type\": \"pie\"}], \"scatter\": [{\"marker\": {\"colorbar\": {\"outlinewidth\": 0, \"ticks\": \"\"}}, \"type\": \"scatter\"}], \"scatter3d\": [{\"line\": {\"colorbar\": {\"outlinewidth\": 0, \"ticks\": \"\"}}, \"marker\": {\"colorbar\": {\"outlinewidth\": 0, \"ticks\": \"\"}}, \"type\": \"scatter3d\"}], \"scattercarpet\": [{\"marker\": {\"colorbar\": {\"outlinewidth\": 0, \"ticks\": \"\"}}, \"type\": \"scattercarpet\"}], \"scattergeo\": [{\"marker\": {\"colorbar\": {\"outlinewidth\": 0, \"ticks\": \"\"}}, \"type\": \"scattergeo\"}], \"scattergl\": [{\"marker\": {\"colorbar\": {\"outlinewidth\": 0, \"ticks\": \"\"}}, \"type\": \"scattergl\"}], \"scattermapbox\": [{\"marker\": {\"colorbar\": {\"outlinewidth\": 0, \"ticks\": \"\"}}, \"type\": \"scattermapbox\"}], \"scatterpolar\": [{\"marker\": {\"colorbar\": {\"outlinewidth\": 0, \"ticks\": \"\"}}, \"type\": \"scatterpolar\"}], \"scatterpolargl\": [{\"marker\": {\"colorbar\": {\"outlinewidth\": 0, \"ticks\": \"\"}}, \"type\": \"scatterpolargl\"}], \"scatterternary\": [{\"marker\": {\"colorbar\": {\"outlinewidth\": 0, \"ticks\": \"\"}}, \"type\": \"scatterternary\"}], \"surface\": [{\"colorbar\": {\"outlinewidth\": 0, \"ticks\": \"\"}, \"colorscale\": [[0.0, \"#0d0887\"], [0.1111111111111111, \"#46039f\"], [0.2222222222222222, \"#7201a8\"], [0.3333333333333333, \"#9c179e\"], [0.4444444444444444, \"#bd3786\"], [0.5555555555555556, \"#d8576b\"], [0.6666666666666666, \"#ed7953\"], [0.7777777777777778, \"#fb9f3a\"], [0.8888888888888888, \"#fdca26\"], [1.0, \"#f0f921\"]], \"type\": \"surface\"}], \"table\": [{\"cells\": {\"fill\": {\"color\": \"#EBF0F8\"}, \"line\": {\"color\": \"white\"}}, \"header\": {\"fill\": {\"color\": \"#C8D4E3\"}, \"line\": {\"color\": \"white\"}}, \"type\": \"table\"}]}, \"layout\": {\"annotationdefaults\": {\"arrowcolor\": \"#2a3f5f\", \"arrowhead\": 0, \"arrowwidth\": 1}, \"autotypenumbers\": \"strict\", \"coloraxis\": {\"colorbar\": {\"outlinewidth\": 0, \"ticks\": \"\"}}, \"colorscale\": {\"diverging\": [[0, \"#8e0152\"], [0.1, \"#c51b7d\"], [0.2, \"#de77ae\"], [0.3, \"#f1b6da\"], [0.4, \"#fde0ef\"], [0.5, \"#f7f7f7\"], [0.6, \"#e6f5d0\"], [0.7, \"#b8e186\"], [0.8, \"#7fbc41\"], [0.9, \"#4d9221\"], [1, \"#276419\"]], \"sequential\": [[0.0, \"#0d0887\"], [0.1111111111111111, \"#46039f\"], [0.2222222222222222, \"#7201a8\"], [0.3333333333333333, \"#9c179e\"], [0.4444444444444444, \"#bd3786\"], [0.5555555555555556, \"#d8576b\"], [0.6666666666666666, \"#ed7953\"], [0.7777777777777778, \"#fb9f3a\"], [0.8888888888888888, \"#fdca26\"], [1.0, \"#f0f921\"]], \"sequentialminus\": [[0.0, \"#0d0887\"], [0.1111111111111111, \"#46039f\"], [0.2222222222222222, \"#7201a8\"], [0.3333333333333333, \"#9c179e\"], [0.4444444444444444, \"#bd3786\"], [0.5555555555555556, \"#d8576b\"], [0.6666666666666666, \"#ed7953\"], [0.7777777777777778, \"#fb9f3a\"], [0.8888888888888888, \"#fdca26\"], [1.0, \"#f0f921\"]]}, \"colorway\": [\"#636efa\", \"#EF553B\", \"#00cc96\", \"#ab63fa\", \"#FFA15A\", \"#19d3f3\", \"#FF6692\", \"#B6E880\", \"#FF97FF\", \"#FECB52\"], \"font\": {\"color\": \"#2a3f5f\"}, \"geo\": {\"bgcolor\": \"white\", \"lakecolor\": \"white\", \"landcolor\": \"#E5ECF6\", \"showlakes\": true, \"showland\": true, \"subunitcolor\": \"white\"}, \"hoverlabel\": {\"align\": \"left\"}, \"hovermode\": \"closest\", \"mapbox\": {\"style\": \"light\"}, \"paper_bgcolor\": \"white\", \"plot_bgcolor\": \"#E5ECF6\", \"polar\": {\"angularaxis\": {\"gridcolor\": \"white\", \"linecolor\": \"white\", \"ticks\": \"\"}, \"bgcolor\": \"#E5ECF6\", \"radialaxis\": {\"gridcolor\": \"white\", \"linecolor\": \"white\", \"ticks\": \"\"}}, \"scene\": {\"xaxis\": {\"backgroundcolor\": \"#E5ECF6\", \"gridcolor\": \"white\", \"gridwidth\": 2, \"linecolor\": \"white\", \"showbackground\": true, \"ticks\": \"\", \"zerolinecolor\": \"white\"}, \"yaxis\": {\"backgroundcolor\": \"#E5ECF6\", \"gridcolor\": \"white\", \"gridwidth\": 2, \"linecolor\": \"white\", \"showbackground\": true, \"ticks\": \"\", \"zerolinecolor\": \"white\"}, \"zaxis\": {\"backgroundcolor\": \"#E5ECF6\", \"gridcolor\": \"white\", \"gridwidth\": 2, \"linecolor\": \"white\", \"showbackground\": true, \"ticks\": \"\", \"zerolinecolor\": \"white\"}}, \"shapedefaults\": {\"line\": {\"color\": \"#2a3f5f\"}}, \"ternary\": {\"aaxis\": {\"gridcolor\": \"white\", \"linecolor\": \"white\", \"ticks\": \"\"}, \"baxis\": {\"gridcolor\": \"white\", \"linecolor\": \"white\", \"ticks\": \"\"}, \"bgcolor\": \"#E5ECF6\", \"caxis\": {\"gridcolor\": \"white\", \"linecolor\": \"white\", \"ticks\": \"\"}}, \"title\": {\"x\": 0.05}, \"xaxis\": {\"automargin\": true, \"gridcolor\": \"white\", \"linecolor\": \"white\", \"ticks\": \"\", \"title\": {\"standoff\": 15}, \"zerolinecolor\": \"white\", \"zerolinewidth\": 2}, \"yaxis\": {\"automargin\": true, \"gridcolor\": \"white\", \"linecolor\": \"white\", \"ticks\": \"\", \"title\": {\"standoff\": 15}, \"zerolinecolor\": \"white\", \"zerolinewidth\": 2}}}, \"title\": {\"text\": \"First Round Models\"}, \"xaxis\": {\"anchor\": \"y\", \"domain\": [0.0, 1.0], \"title\": {\"text\": \"test time\"}}, \"yaxis\": {\"anchor\": \"x\", \"domain\": [0.0, 1.0], \"title\": {\"text\": \"test accuracy\"}}},                        {\"responsive\": true}                    ).then(function(){\n",
       "                            \n",
       "var gd = document.getElementById('9ae7774a-af23-42fd-9b7d-4edadb750599');\n",
       "var x = new MutationObserver(function (mutations, observer) {{\n",
       "        var display = window.getComputedStyle(gd).display;\n",
       "        if (!display || display === 'none') {{\n",
       "            console.log([gd, 'removed!']);\n",
       "            Plotly.purge(gd);\n",
       "            observer.disconnect();\n",
       "        }}\n",
       "}});\n",
       "\n",
       "// Listen for the removal of the full notebook cells\n",
       "var notebookContainer = gd.closest('#notebook-container');\n",
       "if (notebookContainer) {{\n",
       "    x.observe(notebookContainer, {childList: true});\n",
       "}}\n",
       "\n",
       "// Listen for the clearing of the current output cell\n",
       "var outputEl = gd.closest('.output');\n",
       "if (outputEl) {{\n",
       "    x.observe(outputEl, {childList: true});\n",
       "}}\n",
       "\n",
       "                        })                };                });            </script>        </div>"
      ]
     },
     "metadata": {},
     "output_type": "display_data"
    }
   ],
   "source": [
    "#visualize performance v. time to train/test\n",
    "fig = px.scatter(models, x=\"test time\", y=\"test accuracy\", color='classifier',title = 'First Round Models',size='test f1 score')\n",
    "fig.show()"
   ]
  },
  {
   "cell_type": "markdown",
   "id": "applicable-retro",
   "metadata": {},
   "source": [
    "### Observations\n",
    "XGBoost is the clear top performer. Training and test time are among the lowest and still correctly predicts 95% of cases. These models do not have optimized parameters or corrected class imbalance."
   ]
  },
  {
   "cell_type": "code",
   "execution_count": null,
   "id": "descending-belly",
   "metadata": {},
   "outputs": [],
   "source": []
  }
 ],
 "metadata": {
  "kernelspec": {
   "display_name": "Python 3",
   "language": "python",
   "name": "python3"
  },
  "language_info": {
   "codemirror_mode": {
    "name": "ipython",
    "version": 3
   },
   "file_extension": ".py",
   "mimetype": "text/x-python",
   "name": "python",
   "nbconvert_exporter": "python",
   "pygments_lexer": "ipython3",
   "version": "3.7.9"
  }
 },
 "nbformat": 4,
 "nbformat_minor": 5
}
